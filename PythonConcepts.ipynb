{
 "cells": [
  {
   "cell_type": "heading",
   "metadata": {
    "collapsed": true
   },
   "level": 1,
   "source": [
    "New python concepts"
   ]
  },
  {
   "cell_type": "markdown",
   "metadata": {},
   "source": [
    "- Logical xor - != \n",
    "- List assignment x[1:3] = [8, 9]\n",
    "- Type function type(a)\n",
    "- Enumerate for loops\n",
    "- Dict default value dict.get(\"key1\", \"def_val\")\n",
    "- Dictionary key, val through dict.items() and iteritems() in 2.7\n",
    "- Dictionary and set comprehensions {}\n",
    "- Tuples vs List - Tuple can be used as a key in dict and member of set. dict can't\n",
    "- Numpy - rank = dimension, shape = size along each dimension."
   ]
  },
  {
   "cell_type": "code",
   "execution_count": 1,
   "metadata": {},
   "outputs": [
    {
     "name": "stdout",
     "output_type": "stream",
     "text": [
      "0 1\n<class 'int'> <class 'int'>\n1 2\n<class 'int'> <class 'int'>\n2 3\n<class 'int'> <class 'int'>\n"
     ]
    }
   ],
   "source": [
    "a = [1, 2, 3]\n",
    "for i, x in enumerate(a):\n",
    "    print(i, x)\n",
    "    print(type(i), type(x))"
   ]
  },
  {
   "cell_type": "code",
   "execution_count": 8,
   "metadata": {},
   "outputs": [
    {
     "name": "stdout",
     "output_type": "stream",
     "text": [
      "97\n97\n4\nc 99\nb 98\na 97\n"
     ]
    }
   ],
   "source": [
    "dict = {x:ord(x) for x in [\"a\", \"b\", \"c\"]}\n",
    "print(dict[\"a\"])\n",
    "# print(dict[\"d\"])\n",
    "print(dict.get(\"a\", 4))\n",
    "print(dict.get(\"d\", 4))\n",
    "for key, val in dict.items():\n",
    "    print(key, val)"
   ]
  },
  {
   "cell_type": "code",
   "execution_count": null,
   "metadata": {},
   "outputs": [],
   "source": [
    "import numpy as np\n",
    "a = np.array([1, 2, 3])\n",
    "print(a, a.shape, a.size)"
   ]
  },
  {
   "cell_type": "code",
   "execution_count": null,
   "metadata": {},
   "outputs": [],
   "source": [
    "import numpy as np\n",
    "from scipy.misc import imread, imresize\n",
    "import matplotlib.pyplot as plt\n",
    "\n",
    "img = imread('IMG_1400.JPG')\n",
    "img_tinted = img * \n",
    "\n",
    "plt.subplot(1, 2, 1)\n",
    "plt.imshow(img)\n",
    "\n",
    "plt.subplot(1, 2, 2)\n",
    "plt.imshow(np.uint8(img * [1, 0.95, 0.9]))\n",
    "plt.show()"
   ]
  },
  {
   "cell_type": "code",
   "execution_count": null,
   "outputs": [],
   "source": [
    ""
   ]
  }
 ],
 "metadata": {
  "kernelspec": {
   "display_name": "Python 2",
   "language": "python",
   "name": "python2"
  },
  "language_info": {
   "codemirror_mode": {
    "name": "ipython",
    "version": 2.0
   },
   "file_extension": ".py",
   "mimetype": "text/x-python",
   "name": "python",
   "nbconvert_exporter": "python",
   "pygments_lexer": "ipython2",
   "version": "2.7.6"
  }
 },
 "nbformat": 4,
 "nbformat_minor": 0
}